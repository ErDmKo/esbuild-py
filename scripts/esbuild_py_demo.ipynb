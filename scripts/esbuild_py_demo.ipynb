{
  "nbformat": 4,
  "nbformat_minor": 0,
  "metadata": {
    "colab": {
      "provenance": []
    },
    "kernelspec": {
      "name": "python3",
      "display_name": "Python 3"
    },
    "language_info": {
      "name": "python"
    },
    "widgets": {
      "application/vnd.jupyter.widget-state+json": {
        "b61e4d7b5dc44e17a29d6686d284219e": {
          "model_module": "anywidget",
          "model_name": "AnyModel",
          "model_module_version": "0.9.7",
          "state": {
            "_anywidget_id": "__main__.CounterWidget",
            "_dom_classes": [],
            "_esm": "import * as React from \"https://esm.sh/react@18\";\nimport { createRender, useModelState } from \"https://esm.sh/@anywidget/react\";\nfunction Counter() {\n  const [value, setValue] = useModelState(\"value\");\n  return /* @__PURE__ */ React.createElement(\"button\", { onClick: () => setValue(value + 1) }, \"count is \", value);\n}\nconst render = createRender(Counter);\nexport default { render };\n",
            "_model_module": "anywidget",
            "_model_module_version": "0.9.7",
            "_model_name": "AnyModel",
            "_view_count": null,
            "_view_module": "anywidget",
            "_view_module_version": "0.9.7",
            "_view_name": "AnyView",
            "layout": "IPY_MODEL_76018e520e014946a990f94e0020a3ac",
            "value": 5
          }
        },
        "76018e520e014946a990f94e0020a3ac": {
          "model_module": "@jupyter-widgets/base",
          "model_name": "LayoutModel",
          "model_module_version": "1.2.0",
          "state": {
            "_model_module": "@jupyter-widgets/base",
            "_model_module_version": "1.2.0",
            "_model_name": "LayoutModel",
            "_view_count": null,
            "_view_module": "@jupyter-widgets/base",
            "_view_module_version": "1.2.0",
            "_view_name": "LayoutView",
            "align_content": null,
            "align_items": null,
            "align_self": null,
            "border": null,
            "bottom": null,
            "display": null,
            "flex": null,
            "flex_flow": null,
            "grid_area": null,
            "grid_auto_columns": null,
            "grid_auto_flow": null,
            "grid_auto_rows": null,
            "grid_column": null,
            "grid_gap": null,
            "grid_row": null,
            "grid_template_areas": null,
            "grid_template_columns": null,
            "grid_template_rows": null,
            "height": null,
            "justify_content": null,
            "justify_items": null,
            "left": null,
            "margin": null,
            "max_height": null,
            "max_width": null,
            "min_height": null,
            "min_width": null,
            "object_fit": null,
            "object_position": null,
            "order": null,
            "overflow": null,
            "overflow_x": null,
            "overflow_y": null,
            "padding": null,
            "right": null,
            "top": null,
            "visibility": null,
            "width": null
          }
        }
      }
    }
  },
  "cells": [
    {
      "cell_type": "code",
      "execution_count": null,
      "metadata": {
        "id": "75MWK6UgqaRX"
      },
      "outputs": [],
      "source": [
        "!pip install esbuild_py anywidget"
      ]
    },
    {
      "cell_type": "code",
      "source": [
        "import anywidget\n",
        "import traitlets\n",
        "from esbuild_py import transform\n",
        "\n",
        "class CounterWidget(anywidget.AnyWidget):\n",
        "    # Use transform to convert JSX -> JS.\n",
        "    _esm = transform(\"\"\"\n",
        "    import * as React from \"https://esm.sh/react@18\";\n",
        "    import { createRender, useModelState } from \"https://esm.sh/@anywidget/react\";\n",
        "\n",
        "    function Counter() {\n",
        "      const [value, setValue] = useModelState(\"value\");\n",
        "      return (\n",
        "        <button onClick={() => setValue(value + 1)}>count is {value}</button>\n",
        "      );\n",
        "    }\n",
        "    const render = createRender(Counter);\n",
        "\n",
        "    export default { render };\n",
        "    \"\"\")\n",
        "    value = traitlets.Int(0).tag(sync=True)\n",
        "\n",
        "\n",
        "counter = CounterWidget()\n",
        "counter.value = 1\n",
        "counter"
      ],
      "metadata": {
        "colab": {
          "base_uri": "https://localhost:8080/",
          "height": 39,
          "referenced_widgets": [
            "b61e4d7b5dc44e17a29d6686d284219e",
            "76018e520e014946a990f94e0020a3ac"
          ]
        },
        "id": "bpDeLQA9qhE3",
        "outputId": "1a3ebc16-e32d-41bc-f4f5-fb84c4fbf059"
      },
      "execution_count": 5,
      "outputs": [
        {
          "output_type": "display_data",
          "data": {
            "text/plain": [
              "CounterWidget(value=1)"
            ],
            "application/vnd.jupyter.widget-view+json": {
              "version_major": 2,
              "version_minor": 0,
              "model_id": "b61e4d7b5dc44e17a29d6686d284219e"
            }
          },
          "metadata": {
            "application/vnd.jupyter.widget-view+json": {
              "colab": {
                "custom_widget_manager": {
                  "url": "https://ssl.gstatic.com/colaboratory-static/widgets/colab-cdn-widget-manager/2b70e893a8ba7c0f/manager.min.js"
                }
              }
            }
          }
        }
      ]
    },
    {
      "cell_type": "code",
      "source": [],
      "metadata": {
        "id": "W4lHFJGSqrer"
      },
      "execution_count": null,
      "outputs": []
    }
  ]
}